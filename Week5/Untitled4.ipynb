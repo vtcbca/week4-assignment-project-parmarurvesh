{
 "cells": [
  {
   "cell_type": "code",
   "execution_count": 9,
   "id": "9bac1f26-2624-4a1c-9408-dbb3f8c2e1c9",
   "metadata": {},
   "outputs": [],
   "source": [
    "import csv\n",
    "f=open('c:\\sqlite3\\csv\\student.csv','w')\n",
    "w=csv.writer(f)\n",
    "header=[\"id\",\"name\",\"totalmarks\"]\n",
    "w.writerow(header)\n",
    "row=[[1,\"om\",300],[2,\"sai\",350]]\n",
    "w.writerows(row)\n",
    "f.close()\n"
   ]
  },
  {
   "cell_type": "markdown",
   "id": "68b8fff6-fd48-401a-ad24-b2851ca75182",
   "metadata": {},
   "source": []
  },
  {
   "cell_type": "code",
   "execution_count": 23,
   "id": "9de49831-89b5-4e0a-a787-175518b6520c",
   "metadata": {},
   "outputs": [
    {
     "ename": "IndentationError",
     "evalue": "unindent does not match any outer indentation level (<tokenize>, line 4)",
     "output_type": "error",
     "traceback": [
      "\u001b[1;36m  File \u001b[1;32m<tokenize>:4\u001b[1;36m\u001b[0m\n\u001b[1;33m    w=writer(f)\u001b[0m\n\u001b[1;37m    ^\u001b[0m\n\u001b[1;31mIndentationError\u001b[0m\u001b[1;31m:\u001b[0m unindent does not match any outer indentation level\n"
     ]
    }
   ],
   "source": [
    "from csv import writer\n",
    "row=[[3,\"urvesh\",390],[4,\"dev\",400]]\n",
    "     with open('c:\\sqlite3\\csv\\studnt.csv','a',newline='')as f:\n",
    "    w=writer(f)\n",
    "    w.writerows(row)"
   ]
  },
  {
   "cell_type": "code",
   "execution_count": null,
   "id": "34477e02-f61d-47ad-be97-29a197b5966a",
   "metadata": {},
   "outputs": [],
   "source": []
  },
  {
   "cell_type": "code",
   "execution_count": null,
   "id": "e8065c43-6ef4-4fb3-b870-35c16a367f4a",
   "metadata": {},
   "outputs": [],
   "source": []
  },
  {
   "cell_type": "code",
   "execution_count": null,
   "id": "e8caba3b-6c70-476f-8ab2-5fb72c2ada92",
   "metadata": {},
   "outputs": [],
   "source": []
  }
 ],
 "metadata": {
  "kernelspec": {
   "display_name": "Python 3 (ipykernel)",
   "language": "python",
   "name": "python3"
  },
  "language_info": {
   "codemirror_mode": {
    "name": "ipython",
    "version": 3
   },
   "file_extension": ".py",
   "mimetype": "text/x-python",
   "name": "python",
   "nbconvert_exporter": "python",
   "pygments_lexer": "ipython3",
   "version": "3.9.6"
  }
 },
 "nbformat": 4,
 "nbformat_minor": 5
}
